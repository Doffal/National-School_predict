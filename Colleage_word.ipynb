{
 "cells": [
  {
   "cell_type": "markdown",
   "id": "50f9fe33",
   "metadata": {},
   "source": [
    "https://book.coalastudy.com/data_crawling/week3/stage3"
   ]
  },
  {
   "cell_type": "code",
   "execution_count": 1,
   "id": "90def533",
   "metadata": {},
   "outputs": [],
   "source": [
    "import selenium\n",
    "from selenium import webdriver\n",
    "from selenium.webdriver.common.keys import Keys\n",
    "import time\n",
    "from bs4 import BeautifulSoup\n",
    "from urllib.request import Request, urlopen\n",
    "import requests\n",
    "import re\n",
    "import csv\n",
    "import pandas as pd\n",
    "from tqdm import tqdm\n",
    "import time\n",
    "import logging\n",
    "import logging.handlers\n",
    "#import argparse"
   ]
  },
  {
   "cell_type": "markdown",
   "id": "2d9ac512",
   "metadata": {},
   "source": [
    "# 크롤링"
   ]
  },
  {
   "cell_type": "markdown",
   "id": "1c6cfa67",
   "metadata": {},
   "source": [
    "!pip install selenium"
   ]
  },
  {
   "cell_type": "code",
   "execution_count": null,
   "id": "07adb71c",
   "metadata": {},
   "outputs": [],
   "source": [
    "driver = webdriver.Chrome('C:\\ChromeDriver_exe/chrome_95_driver.exe')"
   ]
  },
  {
   "cell_type": "code",
   "execution_count": null,
   "id": "52e9861e",
   "metadata": {},
   "outputs": [],
   "source": [
    "url = 'https://search.naver.com/search.naver?where=news&sm=tab_jum&query=%EC%84%9C%EC%9A%B8%EB%8C%80%ED%95%99%EA%B5%90'\n",
    "driver.get(url)"
   ]
  },
  {
   "cell_type": "code",
   "execution_count": null,
   "id": "352f3d50",
   "metadata": {},
   "outputs": [],
   "source": [
    "html = driver.page_source"
   ]
  },
  {
   "cell_type": "code",
   "execution_count": null,
   "id": "f26a1e96",
   "metadata": {},
   "outputs": [],
   "source": [
    "soup = BeautifulSoup(html, 'html.parser')"
   ]
  },
  {
   "cell_type": "code",
   "execution_count": null,
   "id": "ecd74a56",
   "metadata": {},
   "outputs": [],
   "source": [
    "print(soup.select_one('a.news_tit').get_text())"
   ]
  },
  {
   "cell_type": "code",
   "execution_count": null,
   "id": "6a267764",
   "metadata": {},
   "outputs": [],
   "source": [
    "titles = soup.select('a.news_tit')"
   ]
  },
  {
   "cell_type": "code",
   "execution_count": null,
   "id": "3ca9e114",
   "metadata": {},
   "outputs": [],
   "source": [
    "titles"
   ]
  },
  {
   "cell_type": "code",
   "execution_count": null,
   "id": "9cbc3482",
   "metadata": {},
   "outputs": [],
   "source": [
    "for i in titles:\n",
    "    title = i.get_text()\n",
    "    print(title)"
   ]
  },
  {
   "cell_type": "code",
   "execution_count": null,
   "id": "e5090c7b",
   "metadata": {},
   "outputs": [],
   "source": [
    "articles = driver.find_elements_by_class_name('li')[0:10]     \n",
    "\n",
    "for article in articles:                                        \n",
    "    article_name = articles.find_elements_by_class_name('sp_nws1 > div.news_wrap.api_ani_send > div > a')\n",
    "    print(article_name)"
   ]
  },
  {
   "cell_type": "code",
   "execution_count": null,
   "id": "bcb91e63",
   "metadata": {},
   "outputs": [],
   "source": [
    "articles = driver.find_elements_by_css_selector('li')[0:10]  "
   ]
  },
  {
   "cell_type": "code",
   "execution_count": null,
   "id": "faf43745",
   "metadata": {},
   "outputs": [],
   "source": [
    "articles[0]"
   ]
  },
  {
   "cell_type": "code",
   "execution_count": null,
   "id": "8862833f",
   "metadata": {},
   "outputs": [],
   "source": [
    "# 네이버 서울대학교 기사제목 크롤링\n",
    "driver = webdriver.Chrome('c:/ChromeDriver_exe/chrome_95_driver.exe')     \n",
    "url = 'https://search.naver.com/search.naver?where=news&sm=tab_jum&query=%EC%84%9C%EC%9A%B8%EB%8C%80%ED%95%99%EA%B5%90'\n",
    "driver.get(url)\n",
    "\n",
    "html = driver.page_source\n",
    "soup = BeautifulSoup(html, 'html.parser')\n",
    "titles = soup.select('a.news_tit')\n",
    "for i in titles:\n",
    "    title = i.get_text()\n",
    "    print(title)\n"
   ]
  },
  {
   "cell_type": "code",
   "execution_count": null,
   "id": "aee5fcae",
   "metadata": {},
   "outputs": [],
   "source": [
    "html = driver.page_source_"
   ]
  },
  {
   "cell_type": "code",
   "execution_count": null,
   "id": "13bcd8a2",
   "metadata": {},
   "outputs": [],
   "source": [
    "songs = driver.find_elements_by_css_selector('tr')[1:11]\n",
    "\n",
    "for song in songs:                                        \n",
    "    title = song.find_elements_by_css_selector('div.ellipsis.rank01 > span > a')[0].text\n",
    "    singer = song.find_elements_by_css_selector('div.ellipsis.rank02 > a')[0].text  \n",
    "    print(title, singer, sep = ' | ')"
   ]
  },
  {
   "cell_type": "code",
   "execution_count": null,
   "id": "3baca886",
   "metadata": {},
   "outputs": [],
   "source": [
    "for song in songs:                                        \n",
    "    title = song.find_elements_by_css_selector('div.ellipsis.rank01 > span > a')[0].text\n",
    "    singer = song.find_elements_by_css_selector('div.ellipsis.rank02 > a')[0].text  \n",
    "    print(title, singer, sep = ' | ')"
   ]
  },
  {
   "cell_type": "code",
   "execution_count": null,
   "id": "1bda5da5",
   "metadata": {},
   "outputs": [],
   "source": []
  },
  {
   "cell_type": "code",
   "execution_count": null,
   "id": "8b95b78b",
   "metadata": {},
   "outputs": [],
   "source": [
    "search = input('조회할 대학교를 입력하세요. (ex. 서울대학교)')\n",
    "start_date = input('조회를 시작할 날짜를 입력하세요. (ex. 2021.01.01)')\n",
    "end_date = input('조회를 끝낼 날짜를 입력하세요. (ex. 2021.12.31)')\n",
    "start_date1 = input('start_date와 동일한 날짜를 입력하세요. (ex. 20210101)')\n",
    "end_date1 = input('end_date와 동일한 날짜를 입력하세요. (ex. 20211231)')"
   ]
  },
  {
   "cell_type": "code",
   "execution_count": null,
   "id": "268712d0",
   "metadata": {},
   "outputs": [],
   "source": [
    "driver = webdriver.Chrome('C:\\ChromeDriver_exe/chrome_95_driver.exe')\n",
    "\n",
    "title_list = []\n",
    "\n",
    "total_page = 100\n",
    "\n",
    "for i in tqdm(range(0, total_page)):\n",
    "    i = i*10 +1\n",
    "    \n",
    "    \n",
    "    url = 'https://search.naver.com/search.naver?where=news&sm=tab_pge&query={}&sort=0&photo=0&field=0&pd=3&ds={}&de={}&cluster_rank=68&mynews=0&office_type=0&office_section_code=0&news_office_checked=&nso=so:r,p:from{}to{},a:all&start={}'.format(search, start_date, end_date, start_date1, end_date1, i)\n",
    "    \n",
    "    driver.get(url)\n",
    "    time.sleep(0.5)\n",
    "    \n",
    "    # 크롤링 시작\n",
    "    html = driver.page_source\n",
    "    soup = BeautifulSoup(html, 'html.parser')\n",
    "    titles = soup.select('a.news_tit')\n",
    "    \n",
    "    for j in titles:\n",
    "        title = j.get_text()\n",
    "        title_list.append(title)\n",
    "        \n",
    "\n",
    "title_list = pd.DataFrame(title_list)\n"
   ]
  },
  {
   "cell_type": "code",
   "execution_count": null,
   "id": "26a0b2a2",
   "metadata": {},
   "outputs": [],
   "source": [
    "title_list"
   ]
  },
  {
   "cell_type": "code",
   "execution_count": 2,
   "id": "4def3ee5",
   "metadata": {
    "scrolled": true
   },
   "outputs": [
    {
     "name": "stderr",
     "output_type": "stream",
     "text": [
      "C:\\Users\\Doffal\\AppData\\Local\\Temp/ipykernel_30724/2506171833.py:3: DeprecationWarning: executable_path has been deprecated, please pass in a Service object\n",
      "  driver = webdriver.Chrome('C:/ChromeDriver_exe/chrome_95_driver.exe')\n",
      "100%|████████████████████████████████████████████████████████████████████████████████| 400/400 [07:31<00:00,  1.13s/it]\n",
      "100%|████████████████████████████████████████████████████████████████████████████████| 400/400 [07:38<00:00,  1.15s/it]\n",
      "100%|████████████████████████████████████████████████████████████████████████████████| 400/400 [07:38<00:00,  1.15s/it]\n",
      "100%|████████████████████████████████████████████████████████████████████████████████| 400/400 [08:03<00:00,  1.21s/it]\n",
      "100%|████████████████████████████████████████████████████████████████████████████████| 400/400 [08:16<00:00,  1.24s/it]\n",
      "100%|████████████████████████████████████████████████████████████████████████████████| 400/400 [08:14<00:00,  1.24s/it]\n",
      "100%|████████████████████████████████████████████████████████████████████████████████| 400/400 [07:02<00:00,  1.06s/it]\n",
      "100%|████████████████████████████████████████████████████████████████████████████████| 400/400 [07:05<00:00,  1.06s/it]\n",
      "100%|████████████████████████████████████████████████████████████████████████████████| 400/400 [07:10<00:00,  1.08s/it]\n",
      "100%|████████████████████████████████████████████████████████████████████████████████| 400/400 [07:02<00:00,  1.06s/it]\n",
      "100%|████████████████████████████████████████████████████████████████████████████████| 400/400 [06:57<00:00,  1.04s/it]\n",
      "100%|████████████████████████████████████████████████████████████████████████████████| 400/400 [07:49<00:00,  1.17s/it]\n",
      "100%|████████████████████████████████████████████████████████████████████████████████| 400/400 [07:21<00:00,  1.10s/it]\n",
      "100%|████████████████████████████████████████████████████████████████████████████████| 400/400 [07:40<00:00,  1.15s/it]\n",
      "100%|████████████████████████████████████████████████████████████████████████████████| 400/400 [08:05<00:00,  1.21s/it]\n",
      "100%|████████████████████████████████████████████████████████████████████████████████| 400/400 [07:05<00:00,  1.06s/it]\n",
      "100%|████████████████████████████████████████████████████████████████████████████████| 400/400 [07:16<00:00,  1.09s/it]\n",
      "100%|████████████████████████████████████████████████████████████████████████████████| 400/400 [07:02<00:00,  1.06s/it]\n",
      "100%|████████████████████████████████████████████████████████████████████████████████| 400/400 [06:49<00:00,  1.02s/it]\n",
      "100%|████████████████████████████████████████████████████████████████████████████████| 400/400 [06:47<00:00,  1.02s/it]\n",
      "100%|████████████████████████████████████████████████████████████████████████████████| 400/400 [06:57<00:00,  1.04s/it]\n",
      "100%|████████████████████████████████████████████████████████████████████████████████| 400/400 [06:52<00:00,  1.03s/it]\n",
      "100%|████████████████████████████████████████████████████████████████████████████████| 400/400 [07:09<00:00,  1.07s/it]\n",
      "100%|████████████████████████████████████████████████████████████████████████████████| 400/400 [06:56<00:00,  1.04s/it]\n",
      "100%|████████████████████████████████████████████████████████████████████████████████| 400/400 [06:58<00:00,  1.05s/it]\n",
      "100%|████████████████████████████████████████████████████████████████████████████████| 400/400 [07:01<00:00,  1.05s/it]\n",
      "100%|████████████████████████████████████████████████████████████████████████████████| 400/400 [07:04<00:00,  1.06s/it]\n",
      "100%|████████████████████████████████████████████████████████████████████████████████| 400/400 [06:55<00:00,  1.04s/it]\n",
      "100%|████████████████████████████████████████████████████████████████████████████████| 400/400 [06:58<00:00,  1.05s/it]\n",
      "100%|████████████████████████████████████████████████████████████████████████████████| 400/400 [07:02<00:00,  1.06s/it]\n",
      "IOPub data rate exceeded.\n",
      "The notebook server will temporarily stop sending output\n",
      "to the client in order to avoid crashing it.\n",
      "To change this limit, set the config variable\n",
      "`--NotebookApp.iopub_data_rate_limit`.\n",
      "\n",
      "Current values:\n",
      "NotebookApp.iopub_data_rate_limit=1000000.0 (bytes/sec)\n",
      "NotebookApp.rate_limit_window=3.0 (secs)\n",
      "\n"
     ]
    }
   ],
   "source": [
    "def column_keyword(search_list:list, start_date:list, end_date:list, total_page:int):\n",
    "    \n",
    "    driver = webdriver.Chrome('C:/ChromeDriver_exe/chrome_95_driver.exe')\n",
    "\n",
    "    colleage_list = []\n",
    "            \n",
    "    for sd, ed in zip(start_date, end_date):\n",
    "\n",
    "        for i in tqdm(range(0, total_page)):\n",
    "            title_list = []\n",
    "            i = i*10 +1\n",
    "\n",
    "            url = 'https://search.naver.com/search.naver?where=news&sm=tab_pge&query={}&sort=0&photo=0&field=0&pd=3&ds={}&de={}&cluster_rank=68&mynews=0&office_type=0&office_section_code=0&news_office_checked=&nso=so:r,p:from{}to{},a:all&start={}'.format(search_list, sd, ed, sd, ed, i)\n",
    "\n",
    "            driver.get(url)\n",
    "\n",
    "            time.sleep(0.5)\n",
    "\n",
    "            html = driver.page_source\n",
    "\n",
    "            soup = BeautifulSoup(html, 'html.parser')\n",
    "\n",
    "            titles = soup.select('a.news_tit')\n",
    "\n",
    "            for j in titles:\n",
    "                title = j.get_text()\n",
    "                title_list.append(title)\n",
    "            colleage_list.append(title_list)\n",
    "\n",
    "    driver.quit()\n",
    "   \n",
    "    result = sum(colleage_list, []) # list를 합치는 것\n",
    "    \n",
    "    return result\n",
    "\n",
    "def func():\n",
    "    search = ['서울대', '부산대', '경북대', '전남대', '전북대', '충남대', '충북대', '강원대', '경상대', '제주대']\n",
    "    start_date = [\"2017.01.01\", \"2018.01.01\", \"2019.01.01\"]\n",
    "    end_date = [\"2017.12.31\", \"2018.12.31\", \"2019.12.31\"]\n",
    "    total_page = 400\n",
    "    \n",
    "    result_list =[]\n",
    "    dict ={}\n",
    "    \n",
    "    for s in search:\n",
    "        l = column_keyword(s, start_date, end_date, total_page)\n",
    "        result_list.append(l)\n",
    "        \n",
    "        logging.info     \n",
    "        for r in result_list:\n",
    "            key =s\n",
    "            dict[key] =r\n",
    "            \n",
    "    print(dict)\n",
    "    df =pd.DataFrame(dict)\n",
    "    df.to_excel('./colleage_key.xlsx')    \n",
    "\n",
    "if __name__ == '__main__':\n",
    "    func()\n",
    "    \n",
    "    \n",
    "#logging"
   ]
  },
  {
   "cell_type": "code",
   "execution_count": null,
   "id": "83e02d65",
   "metadata": {},
   "outputs": [],
   "source": []
  }
 ],
 "metadata": {
  "kernelspec": {
   "display_name": "kword",
   "language": "python",
   "name": "kword"
  },
  "language_info": {
   "codemirror_mode": {
    "name": "ipython",
    "version": 3
   },
   "file_extension": ".py",
   "mimetype": "text/x-python",
   "name": "python",
   "nbconvert_exporter": "python",
   "pygments_lexer": "ipython3",
   "version": "3.9.7"
  }
 },
 "nbformat": 4,
 "nbformat_minor": 5
}
